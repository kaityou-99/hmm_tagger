{
 "cells": [
  {
   "cell_type": "code",
   "execution_count": 1,
   "metadata": {},
   "outputs": [],
   "source": [
    "import sys,io,os"
   ]
  },
  {
   "cell_type": "code",
   "execution_count": 2,
   "metadata": {},
   "outputs": [],
   "source": [
    "import pandas as pd\n",
    "import numpy as np"
   ]
  },
  {
   "cell_type": "code",
   "execution_count": 3,
   "metadata": {},
   "outputs": [],
   "source": [
    "wd = \"/home/sakae/Windows/Python/FOSNLP/\"\n",
    "os.chdir(wd)"
   ]
  },
  {
   "cell_type": "code",
   "execution_count": 4,
   "metadata": {},
   "outputs": [],
   "source": [
    "path_state = \"./material/state_transition.tsv\"\n",
    "path_repr = \"./material/repr_state_obesrvation.tsv\""
   ]
  },
  {
   "cell_type": "code",
   "execution_count": 5,
   "metadata": {},
   "outputs": [],
   "source": [
    "df_state = pd.read_csv(path_state, index_col=0, header=0, delimiter=\"\\t\")\n",
    "df_repr = pd.read_csv(path_repr, index_col=0, header=0, delimiter=\"\\t\")"
   ]
  },
  {
   "cell_type": "code",
   "execution_count": 6,
   "metadata": {},
   "outputs": [
    {
     "data": {
      "text/html": [
       "<div>\n",
       "<style scoped>\n",
       "    .dataframe tbody tr th:only-of-type {\n",
       "        vertical-align: middle;\n",
       "    }\n",
       "\n",
       "    .dataframe tbody tr th {\n",
       "        vertical-align: top;\n",
       "    }\n",
       "\n",
       "    .dataframe thead th {\n",
       "        text-align: right;\n",
       "    }\n",
       "</style>\n",
       "<table border=\"1\" class=\"dataframe\">\n",
       "  <thead>\n",
       "    <tr style=\"text-align: right;\">\n",
       "      <th></th>\n",
       "      <th>AT</th>\n",
       "      <th>BEZ</th>\n",
       "      <th>IN</th>\n",
       "      <th>NN</th>\n",
       "      <th>VB</th>\n",
       "      <th>PERIOD</th>\n",
       "    </tr>\n",
       "    <tr>\n",
       "      <th>repr/state</th>\n",
       "      <th></th>\n",
       "      <th></th>\n",
       "      <th></th>\n",
       "      <th></th>\n",
       "      <th></th>\n",
       "      <th></th>\n",
       "    </tr>\n",
       "  </thead>\n",
       "  <tbody>\n",
       "    <tr>\n",
       "      <th>bear</th>\n",
       "      <td>0</td>\n",
       "      <td>0</td>\n",
       "      <td>0</td>\n",
       "      <td>10</td>\n",
       "      <td>43</td>\n",
       "      <td>0</td>\n",
       "    </tr>\n",
       "    <tr>\n",
       "      <th>is</th>\n",
       "      <td>0</td>\n",
       "      <td>10065</td>\n",
       "      <td>0</td>\n",
       "      <td>0</td>\n",
       "      <td>0</td>\n",
       "      <td>0</td>\n",
       "    </tr>\n",
       "    <tr>\n",
       "      <th>move</th>\n",
       "      <td>0</td>\n",
       "      <td>0</td>\n",
       "      <td>0</td>\n",
       "      <td>36</td>\n",
       "      <td>133</td>\n",
       "      <td>0</td>\n",
       "    </tr>\n",
       "    <tr>\n",
       "      <th>on</th>\n",
       "      <td>0</td>\n",
       "      <td>0</td>\n",
       "      <td>5484</td>\n",
       "      <td>0</td>\n",
       "      <td>0</td>\n",
       "      <td>0</td>\n",
       "    </tr>\n",
       "    <tr>\n",
       "      <th>president</th>\n",
       "      <td>0</td>\n",
       "      <td>0</td>\n",
       "      <td>0</td>\n",
       "      <td>382</td>\n",
       "      <td>0</td>\n",
       "      <td>0</td>\n",
       "    </tr>\n",
       "    <tr>\n",
       "      <th>progress</th>\n",
       "      <td>0</td>\n",
       "      <td>0</td>\n",
       "      <td>0</td>\n",
       "      <td>108</td>\n",
       "      <td>4</td>\n",
       "      <td>0</td>\n",
       "    </tr>\n",
       "    <tr>\n",
       "      <th>the</th>\n",
       "      <td>69016</td>\n",
       "      <td>0</td>\n",
       "      <td>0</td>\n",
       "      <td>0</td>\n",
       "      <td>0</td>\n",
       "      <td>0</td>\n",
       "    </tr>\n",
       "    <tr>\n",
       "      <th>.</th>\n",
       "      <td>0</td>\n",
       "      <td>0</td>\n",
       "      <td>0</td>\n",
       "      <td>0</td>\n",
       "      <td>0</td>\n",
       "      <td>48809</td>\n",
       "    </tr>\n",
       "    <tr>\n",
       "      <th>&lt;OOV&gt;</th>\n",
       "      <td>51975</td>\n",
       "      <td>0</td>\n",
       "      <td>125050</td>\n",
       "      <td>133635</td>\n",
       "      <td>20796</td>\n",
       "      <td>458</td>\n",
       "    </tr>\n",
       "  </tbody>\n",
       "</table>\n",
       "</div>"
      ],
      "text/plain": [
       "               AT    BEZ      IN      NN     VB  PERIOD\n",
       "repr/state                                             \n",
       "bear            0      0       0      10     43       0\n",
       "is              0  10065       0       0      0       0\n",
       "move            0      0       0      36    133       0\n",
       "on              0      0    5484       0      0       0\n",
       "president       0      0       0     382      0       0\n",
       "progress        0      0       0     108      4       0\n",
       "the         69016      0       0       0      0       0\n",
       ".               0      0       0       0      0   48809\n",
       "<OOV>       51975      0  125050  133635  20796     458"
      ]
     },
     "execution_count": 6,
     "metadata": {},
     "output_type": "execute_result"
    }
   ],
   "source": [
    "df_repr"
   ]
  },
  {
   "cell_type": "code",
   "execution_count": 7,
   "metadata": {
    "scrolled": true
   },
   "outputs": [
    {
     "data": {
      "text/html": [
       "<div>\n",
       "<style scoped>\n",
       "    .dataframe tbody tr th:only-of-type {\n",
       "        vertical-align: middle;\n",
       "    }\n",
       "\n",
       "    .dataframe tbody tr th {\n",
       "        vertical-align: top;\n",
       "    }\n",
       "\n",
       "    .dataframe thead th {\n",
       "        text-align: right;\n",
       "    }\n",
       "</style>\n",
       "<table border=\"1\" class=\"dataframe\">\n",
       "  <thead>\n",
       "    <tr style=\"text-align: right;\">\n",
       "      <th></th>\n",
       "      <th>AT</th>\n",
       "      <th>BEZ</th>\n",
       "      <th>IN</th>\n",
       "      <th>NN</th>\n",
       "      <th>VB</th>\n",
       "      <th>PERIOD</th>\n",
       "    </tr>\n",
       "    <tr>\n",
       "      <th>from/to</th>\n",
       "      <th></th>\n",
       "      <th></th>\n",
       "      <th></th>\n",
       "      <th></th>\n",
       "      <th></th>\n",
       "      <th></th>\n",
       "    </tr>\n",
       "  </thead>\n",
       "  <tbody>\n",
       "    <tr>\n",
       "      <th>AT</th>\n",
       "      <td>0</td>\n",
       "      <td>0</td>\n",
       "      <td>0</td>\n",
       "      <td>48636</td>\n",
       "      <td>0</td>\n",
       "      <td>19</td>\n",
       "    </tr>\n",
       "    <tr>\n",
       "      <th>BEZ</th>\n",
       "      <td>1973</td>\n",
       "      <td>0</td>\n",
       "      <td>426</td>\n",
       "      <td>187</td>\n",
       "      <td>0</td>\n",
       "      <td>38</td>\n",
       "    </tr>\n",
       "    <tr>\n",
       "      <th>IN</th>\n",
       "      <td>43322</td>\n",
       "      <td>0</td>\n",
       "      <td>1325</td>\n",
       "      <td>17314</td>\n",
       "      <td>0</td>\n",
       "      <td>185</td>\n",
       "    </tr>\n",
       "    <tr>\n",
       "      <th>NN</th>\n",
       "      <td>1067</td>\n",
       "      <td>3720</td>\n",
       "      <td>42470</td>\n",
       "      <td>11773</td>\n",
       "      <td>614</td>\n",
       "      <td>21392</td>\n",
       "    </tr>\n",
       "    <tr>\n",
       "      <th>VB</th>\n",
       "      <td>6072</td>\n",
       "      <td>42</td>\n",
       "      <td>4758</td>\n",
       "      <td>1476</td>\n",
       "      <td>129</td>\n",
       "      <td>1522</td>\n",
       "    </tr>\n",
       "    <tr>\n",
       "      <th>PERIOD</th>\n",
       "      <td>8016</td>\n",
       "      <td>75</td>\n",
       "      <td>4656</td>\n",
       "      <td>1329</td>\n",
       "      <td>954</td>\n",
       "      <td>0</td>\n",
       "    </tr>\n",
       "  </tbody>\n",
       "</table>\n",
       "</div>"
      ],
      "text/plain": [
       "            AT   BEZ     IN     NN   VB  PERIOD\n",
       "from/to                                        \n",
       "AT           0     0      0  48636    0      19\n",
       "BEZ       1973     0    426    187    0      38\n",
       "IN       43322     0   1325  17314    0     185\n",
       "NN        1067  3720  42470  11773  614   21392\n",
       "VB        6072    42   4758   1476  129    1522\n",
       "PERIOD    8016    75   4656   1329  954       0"
      ]
     },
     "execution_count": 7,
     "metadata": {},
     "output_type": "execute_result"
    }
   ],
   "source": [
    "df_state"
   ]
  },
  {
   "cell_type": "markdown",
   "metadata": {},
   "source": [
    "## conversion from observation to probability\n",
    "* `*_state`: state transition probability\n",
    "* `*_repr`: observation probability"
   ]
  },
  {
   "cell_type": "code",
   "execution_count": 8,
   "metadata": {},
   "outputs": [],
   "source": [
    "complement = True\n",
    "if complement:\n",
    "    s_total = df_repr.sum(axis=0)\n",
    "    df_state[\"<OTHER>\"] = s_total - df_state.sum(axis=1)"
   ]
  },
  {
   "cell_type": "code",
   "execution_count": 9,
   "metadata": {},
   "outputs": [],
   "source": [
    "df_state_trans_prob = df_state.apply(lambda s: s / df_state.sum(axis=1))"
   ]
  },
  {
   "cell_type": "code",
   "execution_count": 10,
   "metadata": {},
   "outputs": [],
   "source": [
    "if complement:\n",
    "    df_state_trans_prob.drop(columns=\"<OTHER>\", inplace=True)"
   ]
  },
  {
   "cell_type": "code",
   "execution_count": 11,
   "metadata": {},
   "outputs": [],
   "source": [
    "lst_tup_trans_prob = []\n",
    "for s_0 in df_state_trans_prob.index:\n",
    "    for s_1 in df_state.index:\n",
    "        tup_trans_prob = (s_0, s_1, df_state_trans_prob.loc[s_0, s_1])\n",
    "        lst_tup_trans_prob.append(tup_trans_prob)"
   ]
  },
  {
   "cell_type": "code",
   "execution_count": 12,
   "metadata": {},
   "outputs": [],
   "source": [
    "df_repr_prob = df_repr.apply(lambda s: s/df_repr.sum(axis=0), axis=1)"
   ]
  },
  {
   "cell_type": "code",
   "execution_count": 13,
   "metadata": {},
   "outputs": [],
   "source": [
    "lst_tup_repr_prob = []\n",
    "for s in df_repr_prob.columns:\n",
    "    for r in df_repr_prob.index:\n",
    "        tup_trans_prob = (s, r, df_repr_prob.loc[r, s])\n",
    "        lst_tup_repr_prob.append(tup_trans_prob)"
   ]
  },
  {
   "cell_type": "markdown",
   "metadata": {},
   "source": [
    "## instanciate HMM class"
   ]
  },
  {
   "cell_type": "code",
   "execution_count": 14,
   "metadata": {},
   "outputs": [],
   "source": [
    "# from Tagger.HMM import PlainHMM\n",
    "from Tagger.HMM import HMM"
   ]
  },
  {
   "cell_type": "code",
   "execution_count": 15,
   "metadata": {},
   "outputs": [],
   "source": [
    "model = HMM()"
   ]
  },
  {
   "cell_type": "markdown",
   "metadata": {},
   "source": [
    "* set state/representation symbols"
   ]
  },
  {
   "cell_type": "code",
   "execution_count": 16,
   "metadata": {},
   "outputs": [],
   "source": [
    "model.set_repr(representations=df_repr_prob.index)\n",
    "model.set_state(states=df_state_trans_prob.index, state_bos=\"PERIOD\")"
   ]
  },
  {
   "cell_type": "markdown",
   "metadata": {},
   "source": [
    "* set state/representation probabilities\n",
    "    * state transition probability\n",
    "    * representation probability"
   ]
  },
  {
   "cell_type": "code",
   "execution_count": 17,
   "metadata": {},
   "outputs": [
    {
     "name": "stderr",
     "output_type": "stream",
     "text": [
      "/media/sakae/D/Linux/Python/FOSNLP/Tagger/HMM.py:109: RuntimeWarning: divide by zero encountered in log\n",
      "  self._mat_log_repr_obs_prob = np.log(self._mat_repr_obs_prob)\n",
      "/media/sakae/D/Linux/Python/FOSNLP/Tagger/HMM.py:97: RuntimeWarning: divide by zero encountered in log\n",
      "  self._mat_log_state_trans_prob = np.log(self._mat_state_trans_prob)\n"
     ]
    }
   ],
   "source": [
    "model.set_repr_obs_prob(lst_tuple_repr_prob=lst_tup_repr_prob)\n",
    "model.set_state_trans_prob(lst_tuple_trans_prob=lst_tup_trans_prob)"
   ]
  },
  {
   "cell_type": "markdown",
   "metadata": {},
   "source": [
    "## Evaluate negative log likelihood of specified sequence of tags/words"
   ]
  },
  {
   "cell_type": "code",
   "execution_count": 35,
   "metadata": {},
   "outputs": [],
   "source": [
    "lst_repr = \"The bear is on the move .\".lower().split()\n",
    "lst_state_1 = \"AT NN BEZ IN AT NN PERIOD\".split()\n",
    "lst_state_2 = \"AT NN BEZ IN AT VB PERIOD\".split()"
   ]
  },
  {
   "cell_type": "code",
   "execution_count": 36,
   "metadata": {},
   "outputs": [
    {
     "name": "stdout",
     "output_type": "stream",
     "text": [
      "case 1: the/AT bear/NN is/BEZ on/IN the/AT move/NN ./PERIOD\n",
      "p(s_t+1|s_t): 0.162705, p(r_t|s_t): 0.570423\n",
      "p(s_t+1|s_t): 0.401980, p(r_t|s_t): 0.000075\n",
      "p(s_t+1|s_t): 0.027726, p(r_t|s_t): 1.000000\n",
      "p(s_t+1|s_t): 0.042325, p(r_t|s_t): 0.042012\n",
      "p(s_t+1|s_t): 0.331883, p(r_t|s_t): 0.570423\n",
      "p(s_t+1|s_t): 0.401980, p(r_t|s_t): 0.000268\n",
      "p(s_t+1|s_t): 0.159438, p(r_t|s_t): 0.990704\n",
      "probability: 4.421454e-16\n",
      "\n",
      "case 2: the/AT bear/NN is/BEZ on/IN the/AT move/VB ./PERIOD\n",
      "p(s_t+1|s_t): 0.162705, p(r_t|s_t): 0.570423\n",
      "p(s_t+1|s_t): 0.401980, p(r_t|s_t): 0.000075\n",
      "p(s_t+1|s_t): 0.027726, p(r_t|s_t): 1.000000\n",
      "p(s_t+1|s_t): 0.042325, p(r_t|s_t): 0.042012\n",
      "p(s_t+1|s_t): 0.331883, p(r_t|s_t): 0.570423\n",
      "p(s_t+1|s_t): 0.000000, p(r_t|s_t): 0.006341\n",
      "p(s_t+1|s_t): 0.072559, p(r_t|s_t): 0.990704\n",
      "probability: 0.000000e+00\n"
     ]
    }
   ],
   "source": [
    "s = \" \".join([r + \"/\" + s for r, s in zip(lst_repr, lst_state_1)])\n",
    "print(\"case 1: %s\" % s)\n",
    "nll_1 = model.evaluate(lst_state_1, lst_repr, verbose=True)\n",
    "print(\"probability: %e\" % np.exp(-nll_1))\n",
    "\n",
    "s = \" \".join([r + \"/\" + s for r, s in zip(lst_repr, lst_state_2)])\n",
    "print(\"\\ncase 2: %s\" % s)\n",
    "nll_2 = model.evaluate(lst_state_2, lst_repr, verbose=True)\n",
    "print(\"probability: %e\" % np.exp(-nll_2))"
   ]
  },
  {
   "cell_type": "markdown",
   "metadata": {},
   "source": [
    "## Predict most probable sequence of tags of specified words"
   ]
  },
  {
   "cell_type": "code",
   "execution_count": 21,
   "metadata": {},
   "outputs": [],
   "source": [
    "lst_repr = \"The bear is on the move .\".lower().split()"
   ]
  },
  {
   "cell_type": "code",
   "execution_count": 29,
   "metadata": {
    "scrolled": true
   },
   "outputs": [
    {
     "name": "stderr",
     "output_type": "stream",
     "text": [
      "/usr/local/pyenv/versions/anaconda3-5.1.0/lib/python3.6/site-packages/sklearn/preprocessing/label.py:151: DeprecationWarning: The truth value of an empty array is ambiguous. Returning False, but in future this will result in an error. Use `array.size > 0` to check that an array is not empty.\n",
      "  if diff:\n"
     ]
    }
   ],
   "source": [
    "nll, lst_state_map = model.predict(representations=lst_repr)"
   ]
  },
  {
   "cell_type": "code",
   "execution_count": 33,
   "metadata": {},
   "outputs": [
    {
     "name": "stdout",
     "output_type": "stream",
     "text": [
      "predicted sequence of tags: the/AT bear/NN is/BEZ on/IN the/AT move/NN ./PERIOD\n",
      "probability: 4.421454e-16\n"
     ]
    }
   ],
   "source": [
    "s = \" \".join([r + \"/\" + s for r, s in zip(lst_repr, lst_state_map)])\n",
    "print(\"predicted sequence of tags: %s\" % s)\n",
    "print(\"probability: %e\" % np.exp(-nll))"
   ]
  },
  {
   "cell_type": "code",
   "execution_count": null,
   "metadata": {},
   "outputs": [],
   "source": []
  }
 ],
 "metadata": {
  "kernelspec": {
   "display_name": "Python 3",
   "language": "python",
   "name": "python3"
  },
  "language_info": {
   "codemirror_mode": {
    "name": "ipython",
    "version": 3
   },
   "file_extension": ".py",
   "mimetype": "text/x-python",
   "name": "python",
   "nbconvert_exporter": "python",
   "pygments_lexer": "ipython3",
   "version": "3.6.4"
  }
 },
 "nbformat": 4,
 "nbformat_minor": 2
}
